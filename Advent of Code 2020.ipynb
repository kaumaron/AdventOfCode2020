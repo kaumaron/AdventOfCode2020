{
 "cells": [
  {
   "cell_type": "markdown",
   "metadata": {},
   "source": [
    "# Advent of Code 2020\n",
    "\n",
    "Daily Input:"
   ]
  },
  {
   "cell_type": "code",
   "execution_count": 38,
   "metadata": {},
   "outputs": [],
   "source": [
    "def get_input(day):\n",
    "    input_data = []\n",
    "    with open('input/day'+ str(day) + '.txt','r') as file:\n",
    "        for line in file.readlines():\n",
    "            input_data.append(line.strip())\n",
    "    return input_data"
   ]
  },
  {
   "cell_type": "markdown",
   "metadata": {},
   "source": [
    "## Day 1"
   ]
  },
  {
   "cell_type": "code",
   "execution_count": 39,
   "metadata": {},
   "outputs": [],
   "source": [
    "input_data = [int(n) for n in get_input(1)]"
   ]
  },
  {
   "cell_type": "code",
   "execution_count": 40,
   "metadata": {},
   "outputs": [
    {
     "name": "stdout",
     "output_type": "stream",
     "text": [
      "1005459\n"
     ]
    }
   ],
   "source": [
    "p = -1\n",
    "for n in input_data:\n",
    "    v = 2020 - n\n",
    "    if v in input_data:\n",
    "        p = n*v\n",
    "        break\n",
    "print(p if p != -1 else 'Not Found!')"
   ]
  },
  {
   "cell_type": "code",
   "execution_count": 4,
   "metadata": {},
   "outputs": [
    {
     "name": "stdout",
     "output_type": "stream",
     "text": [
      "92643264\n"
     ]
    }
   ],
   "source": [
    "q = -1\n",
    "for i in range(len(input_data)):\n",
    "    w = 2020 - input_data[i]\n",
    "    for j in range(i+1,len(input_data)):\n",
    "        w = 2020 - input_data[i] - input_data[j]\n",
    "        if w in input_data[j:]:\n",
    "            q = input_data[i] * input_data[j] * w\n",
    "            break\n",
    "print(q if q != -1 else 'Not Found!')"
   ]
  },
  {
   "cell_type": "markdown",
   "metadata": {},
   "source": [
    "## Day 2"
   ]
  },
  {
   "cell_type": "code",
   "execution_count": 5,
   "metadata": {},
   "outputs": [],
   "source": [
    "input_data = [n.strip().split(':') for n in get_input(2)]"
   ]
  },
  {
   "cell_type": "code",
   "execution_count": 6,
   "metadata": {},
   "outputs": [],
   "source": [
    "def parser(s):\n",
    "    letter = s[0].split(' ')[1]\n",
    "    lower, upper = [int(n) for n in s[0].split(' ')[0].split('-')]\n",
    "    phrase = s[1]\n",
    "    return [lower, upper, letter, phrase]"
   ]
  },
  {
   "cell_type": "code",
   "execution_count": 7,
   "metadata": {},
   "outputs": [
    {
     "name": "stdout",
     "output_type": "stream",
     "text": [
      "477\n"
     ]
    }
   ],
   "source": [
    "valid = []\n",
    "for i in input_data:\n",
    "    lower, upper, letter, phrase = parser(i)\n",
    "    if lower <= phrase.count(letter) <= upper:\n",
    "        valid.append(True)\n",
    "    else:\n",
    "        valid.append(False)\n",
    "print(sum(valid))"
   ]
  },
  {
   "cell_type": "code",
   "execution_count": 8,
   "metadata": {},
   "outputs": [
    {
     "name": "stdout",
     "output_type": "stream",
     "text": [
      "686\n"
     ]
    }
   ],
   "source": [
    "valid = []\n",
    "for i in input_data:\n",
    "    lower, upper, letter, phrase = parser(i)\n",
    "    positions = []\n",
    "    if phrase[lower] == letter:\n",
    "        positions.append(True)\n",
    "    if phrase[upper] == letter:\n",
    "        positions.append(True)\n",
    "    valid.append(sum(positions) == 1)\n",
    "print(sum(valid))"
   ]
  },
  {
   "cell_type": "markdown",
   "metadata": {},
   "source": [
    "## Day 3"
   ]
  },
  {
   "cell_type": "code",
   "execution_count": 9,
   "metadata": {},
   "outputs": [],
   "source": [
    "input_data = get_input(3)"
   ]
  },
  {
   "cell_type": "code",
   "execution_count": 10,
   "metadata": {},
   "outputs": [],
   "source": [
    "slope = (3,1)\n",
    "coords = [(0,0)]\n",
    "repeat_idx = len(input_data[0])\n",
    "for i in range(len(input_data)-1):\n",
    "    current = coords[-1]\n",
    "    x = (current[0] + slope[0]) % repeat_idx\n",
    "    y = current[1] + slope[1]\n",
    "    coords.append((x,y))\n",
    "\n",
    "assert len(coords) == len(input_data)"
   ]
  },
  {
   "cell_type": "code",
   "execution_count": 11,
   "metadata": {},
   "outputs": [],
   "source": [
    "def wayfinder(geography, slope, start = (0,0), tree = '#'):\n",
    "    repeat_idx = len(geography[0])\n",
    "    y_max = len(geography)\n",
    "    path = [geography[coords[0][0]][coords[0][1]]]\n",
    "    current = start\n",
    "    for i in range(len(geography)-1):\n",
    "        x = (current[0] + slope[0]) % repeat_idx\n",
    "        y = current[1] + slope[1]\n",
    "        current = (x,y)\n",
    "        if y > y_max:\n",
    "            break\n",
    "        path.append(geography[y][x])\n",
    "\n",
    "    return sum([1 for x in path if x == tree])"
   ]
  },
  {
   "cell_type": "code",
   "execution_count": 12,
   "metadata": {},
   "outputs": [
    {
     "data": {
      "text/plain": [
       "171"
      ]
     },
     "execution_count": 12,
     "metadata": {},
     "output_type": "execute_result"
    }
   ],
   "source": [
    "wayfinder(input_data, (3,1))"
   ]
  },
  {
   "cell_type": "code",
   "execution_count": 13,
   "metadata": {
    "scrolled": true
   },
   "outputs": [
    {
     "name": "stdout",
     "output_type": "stream",
     "text": [
      "1206576000\n"
     ]
    }
   ],
   "source": [
    "slopes = [(1,1),(3,1),(5,1),(7,1),(1,2)]\n",
    "trees = []\n",
    "for slope in slopes:\n",
    "    trees.append(wayfinder(input_data, slope))\n",
    "product = 1\n",
    "for t in trees:\n",
    "    product = product * t\n",
    "print(product)"
   ]
  },
  {
   "cell_type": "markdown",
   "metadata": {},
   "source": [
    "## Day 4"
   ]
  },
  {
   "cell_type": "code",
   "execution_count": 23,
   "metadata": {},
   "outputs": [],
   "source": [
    "input_data = get_input(4)\n",
    "req_fields = ['byr','iyr','eyr','hgt','hcl','ecl','pid','cid']"
   ]
  },
  {
   "cell_type": "code",
   "execution_count": 24,
   "metadata": {},
   "outputs": [],
   "source": [
    "passports = []\n",
    "passport = []\n",
    "for line in input_data:\n",
    "    if line != '':\n",
    "        passport.append(line)\n",
    "    else:\n",
    "        passports.append(' '.join(passport))\n",
    "        passport = []"
   ]
  },
  {
   "cell_type": "code",
   "execution_count": 36,
   "metadata": {},
   "outputs": [],
   "source": [
    "valid = [len(p.split(' ')) >= 6 and 'cid:' not in p for p in passports] "
   ]
  },
  {
   "cell_type": "code",
   "execution_count": 37,
   "metadata": {},
   "outputs": [
    {
     "data": {
      "text/plain": [
       "155"
      ]
     },
     "execution_count": 37,
     "metadata": {},
     "output_type": "execute_result"
    }
   ],
   "source": [
    "sum(valid)"
   ]
  },
  {
   "cell_type": "code",
   "execution_count": null,
   "metadata": {},
   "outputs": [],
   "source": []
  }
 ],
 "metadata": {
  "kernelspec": {
   "display_name": "Python 3",
   "language": "python",
   "name": "python3"
  },
  "language_info": {
   "codemirror_mode": {
    "name": "ipython",
    "version": 3
   },
   "file_extension": ".py",
   "mimetype": "text/x-python",
   "name": "python",
   "nbconvert_exporter": "python",
   "pygments_lexer": "ipython3",
   "version": "3.7.4"
  }
 },
 "nbformat": 4,
 "nbformat_minor": 2
}
